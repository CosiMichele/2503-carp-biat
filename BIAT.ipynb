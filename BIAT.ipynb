{
  "cells": [
    {
      "cell_type": "markdown",
      "metadata": {
        "id": "view-in-github",
        "colab_type": "text"
      },
      "source": [
        "<a href=\"https://colab.research.google.com/github/CosiMichele/2503-carp-biat/blob/megh/BIAT.ipynb\" target=\"_parent\"><img src=\"https://colab.research.google.com/assets/colab-badge.svg\" alt=\"Open In Colab\"/></a>"
      ]
    },
    {
      "cell_type": "markdown",
      "metadata": {
        "id": "V16pJ6-nbgPT"
      },
      "source": [
        "# Bring It All Together (pt. 1)\n",
        "\n",
        "All thanks go to Sarah Stueve and Megh Krishnaswamy for their work on the notebook.\n",
        "\n",
        "The goal of this notebook is to exercise the acquired Python knowledge obtained on day 2 of the Software Carpentries workshop.\n",
        "\n",
        "You will be:\n",
        "1. Importing the `gapminder_all.csv` file\n",
        "2. Index contries, filter and remove redundant columns\n",
        "3. Create a list of desired countries to compare and create a simple graph (frequency distribution table and word cloud)"
      ]
    },
    {
      "cell_type": "markdown",
      "metadata": {
        "id": "A9R583KUbgPX"
      },
      "source": [
        "---\n",
        "\n",
        "## 1. Import required Packages"
      ]
    },
    {
      "cell_type": "code",
      "execution_count": 1,
      "metadata": {
        "id": "wans9dWYbgPY"
      },
      "outputs": [],
      "source": [
        "import pandas as pd\n",
        "import matplotlib.pyplot as plt"
      ]
    },
    {
      "cell_type": "markdown",
      "metadata": {
        "id": "3jkZzl2gbgPZ"
      },
      "source": [
        "---\n",
        "\n",
        "## 2. Download, Import and Clean Data\n",
        "\n",
        "In the next cell, use a bash one-liner (`wget <raw github url>`) to download the dataset from the github repository into Google Colab's file system, and use the correct functions to import the raw csv file and index by country."
      ]
    },
    {
      "cell_type": "markdown",
      "source": [
        "To find the raw Github url for a file, click on the 'raw' button on the top right corner in the Github link to a file.\n",
        "\n",
        "![](https://raw.githubusercontent.com/CosiMichele/2503-carp-biat/main/github_raw_button.png)"
      ],
      "metadata": {
        "id": "lgE_IzVFeSYW"
      }
    },
    {
      "cell_type": "code",
      "source": [
        "# gt CSV file from a web url:\n",
        "!wget https://raw.githubusercontent.com/CosiMichele/2503-carp-biat/refs/heads/main/gapminder_all.csv"
      ],
      "metadata": {
        "id": "TOaugNVWbnVH",
        "outputId": "950e7c51-9dc2-4835-d462-a1c5f0993659",
        "colab": {
          "base_uri": "https://localhost:8080/"
        }
      },
      "execution_count": 3,
      "outputs": [
        {
          "output_type": "stream",
          "name": "stdout",
          "text": [
            "--2025-03-23 05:17:31--  https://raw.githubusercontent.com/CosiMichele/2503-carp-biat/refs/heads/main/gapminder_all.csv\n",
            "Resolving raw.githubusercontent.com (raw.githubusercontent.com)... 185.199.108.133, 185.199.109.133, 185.199.110.133, ...\n",
            "Connecting to raw.githubusercontent.com (raw.githubusercontent.com)|185.199.108.133|:443... connected.\n",
            "HTTP request sent, awaiting response... 200 OK\n",
            "Length: 49082 (48K) [text/plain]\n",
            "Saving to: ‘gapminder_all.csv’\n",
            "\n",
            "gapminder_all.csv   100%[===================>]  47.93K  --.-KB/s    in 0.05s   \n",
            "\n",
            "2025-03-23 05:17:31 (883 KB/s) - ‘gapminder_all.csv’ saved [49082/49082]\n",
            "\n"
          ]
        }
      ]
    },
    {
      "cell_type": "code",
      "execution_count": 4,
      "metadata": {
        "id": "ROakOqACbgPZ"
      },
      "outputs": [],
      "source": [
        "raw_data = pd.read_csv(\"gapminder_all.csv\").set_index(\"country\")\n"
      ]
    },
    {
      "cell_type": "markdown",
      "metadata": {
        "id": "tITh1F7_bgPZ"
      },
      "source": [
        "### 2.1 Use the right function to drop the `continent` column."
      ]
    },
    {
      "cell_type": "code",
      "execution_count": 5,
      "metadata": {
        "id": "DE_QAY2hbgPZ"
      },
      "outputs": [],
      "source": [
        "data = raw_data.drop(columns=\"continent\")"
      ]
    },
    {
      "cell_type": "markdown",
      "metadata": {
        "id": "1MT3dQYQbgPa"
      },
      "source": [
        "### 2.2 Filter the columns\n",
        "\n",
        "When filtering columns, you can use `data.drop(columns=data.filter(like=\"<column to drop>\").columns)`. Here, `like` is used to search for a string in the column name, and `filter` removes all matches.\n",
        "\n",
        "In the next 2 cells, first filter the `lifeExp_` column and the the `pop_` column."
      ]
    },
    {
      "cell_type": "code",
      "execution_count": 6,
      "metadata": {
        "id": "AsQaKKShbgPa"
      },
      "outputs": [],
      "source": [
        "data = data.drop(columns=data.filter(like=\"lifeExp_\").columns)"
      ]
    },
    {
      "cell_type": "code",
      "execution_count": 7,
      "metadata": {
        "id": "h0zqswXvbgPa"
      },
      "outputs": [],
      "source": [
        "data = data.drop(columns=data.filter(like=\"pop_\").columns)"
      ]
    },
    {
      "cell_type": "markdown",
      "metadata": {
        "id": "StAntv6nbgPa"
      },
      "source": [
        "### 2.3 Print index\n",
        "\n",
        "In order to continue, you will need to use the correct format for each country's name (as they appear in data frame). In the next cell, use a `for` loop to print the index (that in this case, is the countries)."
      ]
    },
    {
      "cell_type": "code",
      "execution_count": 8,
      "metadata": {
        "id": "sDKbmgTYbgPb",
        "outputId": "31839c46-333f-4a03-f95d-fdb5c070ceb5",
        "colab": {
          "base_uri": "https://localhost:8080/"
        }
      },
      "outputs": [
        {
          "output_type": "stream",
          "name": "stdout",
          "text": [
            "Algeria\n",
            "Angola\n",
            "Benin\n",
            "Botswana\n",
            "Burkina Faso\n",
            "Burundi\n",
            "Cameroon\n",
            "Central African Republic\n",
            "Chad\n",
            "Comoros\n",
            "Congo Dem. Rep.\n",
            "Congo Rep.\n",
            "Cote d'Ivoire\n",
            "Djibouti\n",
            "Egypt\n",
            "Equatorial Guinea\n",
            "Eritrea\n",
            "Ethiopia\n",
            "Gabon\n",
            "Gambia\n",
            "Ghana\n",
            "Guinea\n",
            "Guinea-Bissau\n",
            "Kenya\n",
            "Lesotho\n",
            "Liberia\n",
            "Libya\n",
            "Madagascar\n",
            "Malawi\n",
            "Mali\n",
            "Mauritania\n",
            "Mauritius\n",
            "Morocco\n",
            "Mozambique\n",
            "Namibia\n",
            "Niger\n",
            "Nigeria\n",
            "Reunion\n",
            "Rwanda\n",
            "Sao Tome and Principe\n",
            "Senegal\n",
            "Sierra Leone\n",
            "Somalia\n",
            "South Africa\n",
            "Sudan\n",
            "Swaziland\n",
            "Tanzania\n",
            "Togo\n",
            "Tunisia\n",
            "Uganda\n",
            "Zambia\n",
            "Zimbabwe\n",
            "Argentina\n",
            "Bolivia\n",
            "Brazil\n",
            "Canada\n",
            "Chile\n",
            "Colombia\n",
            "Costa Rica\n",
            "Cuba\n",
            "Dominican Republic\n",
            "Ecuador\n",
            "El Salvador\n",
            "Guatemala\n",
            "Haiti\n",
            "Honduras\n",
            "Jamaica\n",
            "Mexico\n",
            "Nicaragua\n",
            "Panama\n",
            "Paraguay\n",
            "Peru\n",
            "Puerto Rico\n",
            "Trinidad and Tobago\n",
            "United States\n",
            "Uruguay\n",
            "Venezuela\n",
            "Afghanistan\n",
            "Bahrain\n",
            "Bangladesh\n",
            "Cambodia\n",
            "China\n",
            "Hong Kong China\n",
            "India\n",
            "Indonesia\n",
            "Iran\n",
            "Iraq\n",
            "Israel\n",
            "Japan\n",
            "Jordan\n",
            "Korea Dem. Rep.\n",
            "Korea Rep.\n",
            "Kuwait\n",
            "Lebanon\n",
            "Malaysia\n",
            "Mongolia\n",
            "Myanmar\n",
            "Nepal\n",
            "Oman\n",
            "Pakistan\n",
            "Philippines\n",
            "Saudi Arabia\n",
            "Singapore\n",
            "Sri Lanka\n",
            "Syria\n",
            "Taiwan\n",
            "Thailand\n",
            "Vietnam\n",
            "West Bank and Gaza\n",
            "Yemen Rep.\n",
            "Albania\n",
            "Austria\n",
            "Belgium\n",
            "Bosnia and Herzegovina\n",
            "Bulgaria\n",
            "Croatia\n",
            "Czech Republic\n",
            "Denmark\n",
            "Finland\n",
            "France\n",
            "Germany\n",
            "Greece\n",
            "Hungary\n",
            "Iceland\n",
            "Ireland\n",
            "Italy\n",
            "Montenegro\n",
            "Netherlands\n",
            "Norway\n",
            "Poland\n",
            "Portugal\n",
            "Romania\n",
            "Serbia\n",
            "Slovak Republic\n",
            "Slovenia\n",
            "Spain\n",
            "Sweden\n",
            "Switzerland\n",
            "Turkey\n",
            "United Kingdom\n",
            "Australia\n",
            "New Zealand\n"
          ]
        }
      ],
      "source": [
        "for i in data.index:\n",
        "    print(i)"
      ]
    },
    {
      "cell_type": "markdown",
      "metadata": {
        "id": "saW4hFVIbgPb"
      },
      "source": [
        "### 2.4 Extract years\n",
        "\n",
        "Extract year from last 4 characters of each column name.\n",
        "\n",
        "The current column names are structured as `gdpPercap_(year)`, so we want to keep the `(year)` part only for clarity when plotting GDP vs. years.\n",
        "\n",
        "To do this we use `replace()`, which removes from the string the characters stated in the argument. This method works on strings, so we use `replace()` from Pandas Series.str vectorized string functions."
      ]
    },
    {
      "cell_type": "code",
      "execution_count": 9,
      "metadata": {
        "id": "aouDudptbgPb"
      },
      "outputs": [],
      "source": [
        "years = data.columns.str.replace('gdpPercap_', '')\n",
        "\n",
        "# Convert year values to integers, saving results back to dataframe\n",
        "\n",
        "data.columns = years.astype(int)"
      ]
    },
    {
      "cell_type": "markdown",
      "metadata": {
        "id": "ZryIJghybgPc"
      },
      "source": [
        "---\n",
        "\n",
        "## 3 Visualizing Numerical Data: Listing and Plotting\n",
        "\n",
        "In the next cell, select a country to plot."
      ]
    },
    {
      "cell_type": "code",
      "execution_count": 10,
      "metadata": {
        "id": "llYCChc_bgPc",
        "outputId": "71fabf95-2785-44a1-dd3c-ffce2e4c8c00",
        "colab": {
          "base_uri": "https://localhost:8080/",
          "height": 466
        }
      },
      "outputs": [
        {
          "output_type": "execute_result",
          "data": {
            "text/plain": [
              "<Axes: >"
            ]
          },
          "metadata": {},
          "execution_count": 10
        },
        {
          "output_type": "display_data",
          "data": {
            "text/plain": [
              "<Figure size 640x480 with 1 Axes>"
            ],
            "image/png": "[encoded data removed]"
          },
          "metadata": {}
        }
      ],
      "source": [
        "\n",
        "data.loc['Algeria'].plot()"
      ]
    },
    {
      "cell_type": "markdown",
      "metadata": {
        "id": "XH-WOxgfbgPc"
      },
      "source": [
        "### 3.1 Create a list\n",
        "\n",
        "Compare 5 countries of your choice. Create a list of countries that you are interested in."
      ]
    },
    {
      "cell_type": "code",
      "execution_count": 11,
      "metadata": {
        "id": "x5Zq6xU5bgPc"
      },
      "outputs": [],
      "source": [
        "sel_countries = [\"Algeria\", \"Angola\", \"Burundi\", \"Australia\", \"Italy\"]"
      ]
    },
    {
      "cell_type": "markdown",
      "metadata": {
        "id": "pv7X5xi2bgPd"
      },
      "source": [
        "### 3.2 Use index.isin() to filter\n",
        "\n",
        "`.isin(sel_countries)` checks whether each value in the index is present in the list `sel_countries`. Make sure to save to a different dataframe."
      ]
    },
    {
      "cell_type": "code",
      "execution_count": 12,
      "metadata": {
        "id": "q_c0O79LbgPd"
      },
      "outputs": [],
      "source": [
        "data_countries = data[data.index.isin(sel_countries)]"
      ]
    },
    {
      "cell_type": "code",
      "execution_count": 13,
      "metadata": {
        "id": "yRJ219c1bgPd",
        "outputId": "84948f4c-da1b-49cd-8a00-9634efc5fc8d",
        "colab": {
          "base_uri": "https://localhost:8080/",
          "height": 469
        }
      },
      "outputs": [
        {
          "output_type": "display_data",
          "data": {
            "text/plain": [
              "<Figure size 640x480 with 1 Axes>"
            ],
            "image/png": "[encoded data removed]"
          },
          "metadata": {}
        }
      ],
      "source": [
        "data_countries.T.plot()\n",
        "plt.ylabel('GDP per capita')\n",
        "plt.xlabel('years')\n",
        "plt.savefig(\"countries_comparison.png\", dpi=300)"
      ]
    },
    {
      "cell_type": "markdown",
      "metadata": {
        "id": "ruPfeg4ZbgPe"
      },
      "source": [
        "## 3 Visualizing Text Data: Plotting and Representing Frequency Distributions\n"
      ]
    }
  ],
  "metadata": {
    "kernelspec": {
      "display_name": "Python 3",
      "name": "python3"
    },
    "language_info": {
      "codemirror_mode": {
        "name": "ipython",
        "version": 3
      },
      "file_extension": ".py",
      "mimetype": "text/x-python",
      "name": "python",
      "nbconvert_exporter": "python",
      "pygments_lexer": "ipython3",
      "version": "3.12.9"
    },
    "colab": {
      "provenance": [],
      "toc_visible": true,
      "include_colab_link": true
    }
  },
  "nbformat": 4,
  "nbformat_minor": 0
}